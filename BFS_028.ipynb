{
  "nbformat": 4,
  "nbformat_minor": 0,
  "metadata": {
    "colab": {
      "name": "BFS_028.ipynb",
      "provenance": [],
      "authorship_tag": "ABX9TyNnun4Q2U2uBjwfZrvyVsf/",
      "include_colab_link": true
    },
    "kernelspec": {
      "name": "python3",
      "display_name": "Python 3"
    },
    "language_info": {
      "name": "python"
    }
  },
  "cells": [
    {
      "cell_type": "markdown",
      "metadata": {
        "id": "view-in-github",
        "colab_type": "text"
      },
      "source": [
        "<a href=\"https://colab.research.google.com/github/sharmaparnika/BFS_AI/blob/main/BFS_028.ipynb\" target=\"_parent\"><img src=\"https://colab.research.google.com/assets/colab-badge.svg\" alt=\"Open In Colab\"/></a>"
      ]
    },
    {
      "cell_type": "code",
      "execution_count": null,
      "metadata": {
        "colab": {
          "base_uri": "https://localhost:8080/"
        },
        "id": "i7r8Qw6CIo-O",
        "outputId": "345129fa-4f63-410c-b116-7110c01f0375"
      },
      "outputs": [
        {
          "output_type": "stream",
          "name": "stdout",
          "text": [
            "Breadth First Search\n",
            "E C G B D H "
          ]
        }
      ],
      "source": [
        "graph = {\n",
        "    'E':['C','G'],\n",
        "    'C':['B','D'],\n",
        "    'G':['H'],\n",
        "    'B':[],\n",
        "    'D':['H'],\n",
        "    'H':[]\n",
        "}\n",
        "\n",
        "\n",
        "visited = []\n",
        "q = []\n",
        "\n",
        "def Breadth(visited, graph, node):\n",
        "  visited.append(node)\n",
        "  q.append(node)\n",
        "\n",
        "  while q:\n",
        "    x = q.pop(0)\n",
        "    print(x, end = \" \")\n",
        "\n",
        "    for adj in graph[x]:\n",
        "      if adj not in visited:\n",
        "        visited.append(adj)\n",
        "        q.append(adj)\n",
        "\n",
        "print(\"Breadth First Search\")\n",
        "Breadth(visited, graph, 'E')"
      ]
    }
  ]
}